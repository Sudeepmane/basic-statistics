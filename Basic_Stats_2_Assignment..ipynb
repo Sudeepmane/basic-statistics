{
  "nbformat": 4,
  "nbformat_minor": 0,
  "metadata": {
    "colab": {
      "provenance": []
    },
    "kernelspec": {
      "name": "python3",
      "display_name": "Python 3"
    },
    "language_info": {
      "name": "python"
    }
  },
  "cells": [
    {
      "cell_type": "code",
      "execution_count": 1,
      "metadata": {
        "id": "9F0_gokJrTRS"
      },
      "outputs": [],
      "source": [
        "import numpy as np\n",
        "from scipy import stats"
      ]
    },
    {
      "cell_type": "code",
      "source": [
        "# Given data\n",
        "data = np.array([1.13, 1.55, 1.43, 0.92, 1.25, 1.36, 1.32, 0.85, 1.07, 1.48, 1.20, 1.33, 1.18, 1.22, 1.29])\n",
        "n = len(data)"
      ],
      "metadata": {
        "id": "0C6drG0vr78f"
      },
      "execution_count": 2,
      "outputs": []
    },
    {
      "cell_type": "code",
      "source": [
        "# Step 1: Calculate the sample mean\n",
        "mean = np.mean(data)"
      ],
      "metadata": {
        "id": "C85dCOAUsHDN"
      },
      "execution_count": 3,
      "outputs": []
    },
    {
      "cell_type": "code",
      "source": [
        "# Step 2: Calculate the sample standard deviation\n",
        "# ddof=1 for sample standard deviation\n",
        "sample_std = np.std(data, ddof=1)"
      ],
      "metadata": {
        "id": "3WIEj89QsMgM"
      },
      "execution_count": 4,
      "outputs": []
    },
    {
      "cell_type": "code",
      "source": [
        "# Step 3: Find the t-critical value for 99% confidence interval, df = n-1\n",
        "alpha = 0.01\n",
        "t_critical = stats.t.ppf(1 - alpha/2, df=n-1)"
      ],
      "metadata": {
        "id": "XlD0ozqSsVOl"
      },
      "execution_count": 5,
      "outputs": []
    },
    {
      "cell_type": "code",
      "source": [
        "# Step 4: Compute the margin of error and confidence interval for Part A\n",
        "margin_of_error_a = t_critical * (sample_std / np.sqrt(n))\n",
        "ci_a_lower = mean - margin_of_error_a\n",
        "ci_a_upper = mean + margin_of_error_a"
      ],
      "metadata": {
        "id": "9q5Bsb6lsbhc"
      },
      "execution_count": 6,
      "outputs": []
    },
    {
      "cell_type": "code",
      "source": [
        "# For Part B: Known population standard deviation\n",
        "pop_std = 0.2  # Given\n",
        "z_critical = stats.norm.ppf(1 - alpha/2)"
      ],
      "metadata": {
        "id": "gqqOmR7asgP9"
      },
      "execution_count": 7,
      "outputs": []
    },
    {
      "cell_type": "code",
      "source": [
        "# Compute the margin of error and confidence interval for Part B\n",
        "margin_of_error_b = z_critical * (pop_std / np.sqrt(n))\n",
        "ci_b_lower = mean - margin_of_error_b\n",
        "ci_b_upper = mean + margin_of_error_b"
      ],
      "metadata": {
        "id": "Hom0PJTWsmLc"
      },
      "execution_count": 8,
      "outputs": []
    },
    {
      "cell_type": "code",
      "source": [
        "# Output both confidence intervals\n",
        "(mean, sample_std, (ci_a_lower, ci_a_upper), (ci_b_lower, ci_b_upper))"
      ],
      "metadata": {
        "colab": {
          "base_uri": "https://localhost:8080/"
        },
        "id": "ITzV08Ozsqw8",
        "outputId": "a237f08f-70b2-4a06-f70e-9cf121d89774"
      },
      "execution_count": 9,
      "outputs": [
        {
          "output_type": "execute_result",
          "data": {
            "text/plain": [
              "(1.2386666666666666,\n",
              " 0.19316412956959936,\n",
              " (1.0901973384384906, 1.3871359948948425),\n",
              " (1.1056514133957607, 1.3716819199375725))"
            ]
          },
          "metadata": {},
          "execution_count": 9
        }
      ]
    }
  ]
}